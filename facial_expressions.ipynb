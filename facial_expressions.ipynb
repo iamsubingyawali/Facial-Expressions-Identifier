{
 "cells": [
  {
   "cell_type": "markdown",
   "metadata": {
    "id": "-ElHOmmrBst6"
   },
   "source": [
    "### Importing Libraries"
   ]
  },
  {
   "cell_type": "code",
   "execution_count": 4,
   "metadata": {
    "id": "RriIRuKGBst9"
   },
   "outputs": [],
   "source": [
    "# importing required libraries and packages\n",
    "import pandas as pd\n",
    "import numpy as np\n",
    "import matplotlib.pyplot as plot\n",
    "from tensorflow.keras.models import Model\n",
    "from tensorflow.keras.layers import Dense, Conv2D, MaxPooling2D, Flatten, Input, Dropout\n",
    "from tensorflow.keras.utils import to_categorical\n",
    "from tensorflow.keras.backend import clear_session\n",
    "from tensorflow.keras.utils import plot_model\n",
    "from tensorflow.keras.callbacks import EarlyStopping\n",
    "from keras.preprocessing.image import ImageDataGenerator\n",
    "from keras.layers.normalization import BatchNormalization\n",
    "from mpl_toolkits.axes_grid1 import ImageGrid\n",
    "from sklearn.utils.class_weight import compute_class_weight\n",
    "from sklearn.metrics import classification_report, confusion_matrix, ConfusionMatrixDisplay"
   ]
  },
  {
   "cell_type": "markdown",
   "metadata": {
    "id": "XWviSwlkBst-"
   },
   "source": [
    "### Utility Functions"
   ]
  },
  {
   "cell_type": "code",
   "execution_count": 5,
   "metadata": {
    "id": "tMdW__2vBst_"
   },
   "outputs": [],
   "source": [
    "# Utility function to plot images\n",
    "# Created by Kaushal Raj Mishra - https://github.com/kaushu42\n",
    "def plot_grid(images, n_rows=4, n_cols=4, figsize=(5, 5), randomize=True, cmap=\"gray\"):\n",
    "    if randomize:\n",
    "        images = images.copy()\n",
    "        np.random.shuffle(images)\n",
    "    fig = plot.figure(figsize=figsize)\n",
    "    grid = ImageGrid(\n",
    "            fig, 111,\n",
    "            # creates 2x2 grid of axes\n",
    "            nrows_ncols=(n_rows, n_cols), \n",
    "            # pad between axes in inch.\n",
    "            axes_pad=0.1,  \n",
    "        )\n",
    "    for ax, im in zip(grid, iter(images)):\n",
    "        ax.imshow(im, cmap=cmap)"
   ]
  },
  {
   "cell_type": "markdown",
   "metadata": {
    "id": "RHQa7otKBsuA"
   },
   "source": [
    "### File Paths"
   ]
  },
  {
   "cell_type": "code",
   "execution_count": 6,
   "metadata": {
    "id": "suCriaFYBsuB"
   },
   "outputs": [],
   "source": [
    "# Paths to locate static files\n",
    "DATASET_PATH = \"FER2013.csv\"\n",
    "HAARCASCADE_PATH = \"haarcascade_frontalface_default.xml\""
   ]
  },
  {
   "cell_type": "markdown",
   "metadata": {
    "id": "0gzhPMghBsuB"
   },
   "source": [
    "### Reading the data from Dataset"
   ]
  },
  {
   "cell_type": "code",
   "execution_count": 7,
   "metadata": {
    "id": "pYIWAMx1BsuC"
   },
   "outputs": [],
   "source": [
    "# creating a datafram fetching the data from the dataset\n",
    "dataframe = pd.read_csv(DATASET_PATH)"
   ]
  },
  {
   "cell_type": "code",
   "execution_count": 8,
   "metadata": {
    "colab": {
     "base_uri": "https://localhost:8080/"
    },
    "id": "yQRBxrocBsuD",
    "outputId": "fc184b5f-f5e1-4e4f-dad0-b18c8db62158"
   },
   "outputs": [
    {
     "name": "stdout",
     "output_type": "stream",
     "text": [
      "Training       28709\n",
      "PrivateTest     3589\n",
      "PublicTest      3589\n",
      "Name: Usage, dtype: int64\n"
     ]
    }
   ],
   "source": [
    "# Getting the summary of dataset\n",
    "print(dataframe.Usage.value_counts())"
   ]
  },
  {
   "cell_type": "code",
   "execution_count": 9,
   "metadata": {
    "colab": {
     "base_uri": "https://localhost:8080/",
     "height": 358
    },
    "id": "HzGLhy4G8gwC",
    "outputId": "6713314d-d54b-4b41-efe8-c00b94d8216f"
   },
   "outputs": [
    {
     "data": {
      "text/plain": [
       "Text(0, 0.5, 'Count')"
      ]
     },
     "execution_count": 9,
     "metadata": {},
     "output_type": "execute_result"
    },
    {
     "data": {
      "image/png": "[encoded data removed]",
      "text/plain": [
       "<Figure size 432x288 with 1 Axes>"
      ]
     },
     "metadata": {
      "needs_background": "light"
     },
     "output_type": "display_data"
    }
   ],
   "source": [
    "# Getting the total ditribution of images based on usage and plotting in the graph\r\n",
    "dataframe.Usage.value_counts().plot.bar(color=\"green\")\r\n",
    "plot.title(\"Dataset\")\r\n",
    "plot.xlabel(\"Dataset Usage\")\r\n",
    "plot.ylabel(\"Count\")"
   ]
  },
  {
   "cell_type": "code",
   "execution_count": 10,
   "metadata": {
    "colab": {
     "base_uri": "https://localhost:8080/",
     "height": 310
    },
    "id": "ADxNlwV2-fXB",
    "outputId": "4c8e73cf-cfb4-4d5d-aeaf-6ececef7ddfd"
   },
   "outputs": [
    {
     "data": {
      "text/plain": [
       "Text(0, 0.5, 'Count')"
      ]
     },
     "execution_count": 10,
     "metadata": {},
     "output_type": "execute_result"
    },
    {
     "data": {
      "image/png": "[encoded data removed]",
      "text/plain": [
       "<Figure size 432x288 with 1 Axes>"
      ]
     },
     "metadata": {
      "needs_background": "light"
     },
     "output_type": "display_data"
    }
   ],
   "source": [
    "# Getting the distribution of emotion class and plotting in the graph\r\n",
    "dataframe.emotion.value_counts().plot.bar(color=\"orange\")\r\n",
    "plot.title(\"Emotions\")\r\n",
    "plot.xlabel(\"Emotion Class\")\r\n",
    "plot.ylabel(\"Count\")"
   ]
  },
  {
   "cell_type": "markdown",
   "metadata": {
    "id": "54bkqodaBsuE"
   },
   "source": [
    "### Conversion, Allocation and Normalization of data"
   ]
  },
  {
   "cell_type": "code",
   "execution_count": 11,
   "metadata": {
    "id": "lqo9NKCDBsuE"
   },
   "outputs": [],
   "source": [
    "# Defining a funciton to convert the pixel strings into integers\n",
    "def convert_pixels(pixels_string):\n",
    "#     returning a converted int pixels value \n",
    "    return np.fromstring(pixels_string, dtype=int, sep=\" \").reshape(48, 48, 1)\n",
    "\n",
    "# assigning converted pixel values into dataframe\n",
    "# appy function is used to converted each sting pixels into int\n",
    "dataframe[\"px_array\"] = dataframe.pixels.apply(convert_pixels)"
   ]
  },
  {
   "cell_type": "code",
   "execution_count": 12,
   "metadata": {
    "id": "CyVmjIP2BsuF"
   },
   "outputs": [],
   "source": [
    "# Assiging the training and testing data based on Usage column on the dataset\n",
    "train_data = dataframe.query(\"Usage == 'Training'\")\n",
    "test_data = dataframe.query(\"Usage != 'Training'\")"
   ]
  },
  {
   "cell_type": "code",
   "execution_count": 13,
   "metadata": {
    "id": "cnmLIz05BsuF"
   },
   "outputs": [],
   "source": [
    "# Normalizing the data for training set\n",
    "x_train = np.stack(train_data.px_array)/255\n",
    "y_train = train_data.emotion\n",
    "\n",
    "# Normalizing the data for test set\n",
    "x_test = np.stack(test_data.px_array)/255\n",
    "y_test = test_data.emotion"
   ]
  },
  {
   "cell_type": "code",
   "execution_count": 14,
   "metadata": {
    "id": "V9WjdPk7BsuF"
   },
   "outputs": [],
   "source": [
    "# Plotting the summary of images from dataset using utility functions\n",
    "# plot_grid(x_train, 5,5)"
   ]
  },
  {
   "cell_type": "code",
   "execution_count": 15,
   "metadata": {
    "id": "1chgyTq2BsuG"
   },
   "outputs": [],
   "source": [
    "# One-Hot Encoding train and test data set to get a single emotion with high probability\n",
    "y_train_catg = to_categorical(y_train)\n",
    "y_test_catg = to_categorical(y_test)"
   ]
  },
  {
   "cell_type": "markdown",
   "metadata": {
    "id": "QnE08I7bAfaZ"
   },
   "source": [
    "### Data Augmetation"
   ]
  },
  {
   "cell_type": "code",
   "execution_count": 16,
   "metadata": {
    "id": "9TWji_IXAkmE"
   },
   "outputs": [],
   "source": [
    "# Generating extra images by modifying the properties of data in exsiting dataset\r\n",
    "# This is done to increase the data size for a better trained model\r\n",
    "image_generator = ImageDataGenerator(\r\n",
    "        rotation_range=5,  \r\n",
    "        width_shift_range=0.2,  \r\n",
    "        height_shift_range=0.2,  \r\n",
    "        zoom_range = 0.1,\r\n",
    "        shear_range = 10,  \r\n",
    "        horizontal_flip=True, \r\n",
    "        validation_split=0.2\r\n",
    ")\r\n",
    "\r\n",
    "# Allocating the augmented data to training and testing sets\r\n",
    "train_iterate = image_generator.flow(x_train, y_train_catg, batch_size=128, subset='training')\r\n",
    "val_iterate = image_generator.flow(x_train, y_train_catg, batch_size=128, subset='validation')  \r\n",
    "\r\n",
    "# Iterating on genrator object to generate iamge data\r\n",
    "gen_x, gen_y = next(train_iterate)"
   ]
  },
  {
   "cell_type": "markdown",
   "metadata": {
    "id": "ZmGV6D5JBsuH"
   },
   "source": [
    "### Creating CNN Model"
   ]
  },
  {
   "cell_type": "code",
   "execution_count": 17,
   "metadata": {
    "colab": {
     "base_uri": "https://localhost:8080/"
    },
    "id": "9-UGzl69BsuH",
    "outputId": "0be62dae-c2fd-4445-8d28-ab2a236b794e"
   },
   "outputs": [
    {
     "name": "stdout",
     "output_type": "stream",
     "text": [
      "Model: \"model\"\n",
      "_________________________________________________________________\n",
      "Layer (type)                 Output Shape              Param #   \n",
      "=================================================================\n",
      "input_1 (InputLayer)         [(None, 48, 48, 1)]       0         \n",
      "_________________________________________________________________\n",
      "conv2d (Conv2D)              (None, 48, 48, 64)        640       \n",
      "_________________________________________________________________\n",
      "batch_normalization (BatchNo (None, 48, 48, 64)        256       \n",
      "_________________________________________________________________\n",
      "max_pooling2d (MaxPooling2D) (None, 24, 24, 64)        0         \n",
      "_________________________________________________________________\n",
      "dropout (Dropout)            (None, 24, 24, 64)        0         \n",
      "_________________________________________________________________\n",
      "conv2d_1 (Conv2D)            (None, 24, 24, 128)       73856     \n",
      "_________________________________________________________________\n",
      "batch_normalization_1 (Batch (None, 24, 24, 128)       512       \n",
      "_________________________________________________________________\n",
      "max_pooling2d_1 (MaxPooling2 (None, 12, 12, 128)       0         \n",
      "_________________________________________________________________\n",
      "dropout_1 (Dropout)          (None, 12, 12, 128)       0         \n",
      "_________________________________________________________________\n",
      "conv2d_2 (Conv2D)            (None, 12, 12, 512)       590336    \n",
      "_________________________________________________________________\n",
      "batch_normalization_2 (Batch (None, 12, 12, 512)       2048      \n",
      "_________________________________________________________________\n",
      "max_pooling2d_2 (MaxPooling2 (None, 6, 6, 512)         0         \n",
      "_________________________________________________________________\n",
      "dropout_2 (Dropout)          (None, 6, 6, 512)         0         \n",
      "_________________________________________________________________\n",
      "conv2d_3 (Conv2D)            (None, 6, 6, 512)         2359808   \n",
      "_________________________________________________________________\n",
      "batch_normalization_3 (Batch (None, 6, 6, 512)         2048      \n",
      "_________________________________________________________________\n",
      "max_pooling2d_3 (MaxPooling2 (None, 3, 3, 512)         0         \n",
      "_________________________________________________________________\n",
      "dropout_3 (Dropout)          (None, 3, 3, 512)         0         \n",
      "_________________________________________________________________\n",
      "flatten (Flatten)            (None, 4608)              0         \n",
      "_________________________________________________________________\n",
      "dense (Dense)                (None, 256)               1179904   \n",
      "_________________________________________________________________\n",
      "batch_normalization_4 (Batch (None, 256)               1024      \n",
      "_________________________________________________________________\n",
      "dropout_4 (Dropout)          (None, 256)               0         \n",
      "_________________________________________________________________\n",
      "dense_1 (Dense)              (None, 512)               131584    \n",
      "_________________________________________________________________\n",
      "batch_normalization_5 (Batch (None, 512)               2048      \n",
      "_________________________________________________________________\n",
      "dropout_5 (Dropout)          (None, 512)               0         \n",
      "_________________________________________________________________\n",
      "dense_2 (Dense)              (None, 7)                 3591      \n",
      "=================================================================\n",
      "Total params: 4,347,655\n",
      "Trainable params: 4,343,687\n",
      "Non-trainable params: 3,968\n",
      "_________________________________________________________________\n"
     ]
    }
   ],
   "source": [
    "# Clearing previous models and sessions\n",
    "clear_session()\n",
    "\n",
    "# Defining model layers\n",
    "input_layer = Input(shape=(48, 48, 1))\n",
    "layers = Conv2D(64, 3, 1, activation=\"relu\", padding=\"same\")(input_layer)\n",
    "layers = BatchNormalization()(layers)\n",
    "layers = MaxPooling2D()(layers)\n",
    "layers = Dropout(0.25)(layers)\n",
    "\n",
    "layers = Conv2D(128, 3, 1, activation=\"relu\", padding=\"same\")(layers)\n",
    "layers = BatchNormalization()(layers)\n",
    "layers = MaxPooling2D()(layers)\n",
    "layers = Dropout(0.25)(layers)\n",
    "\n",
    "layers = Conv2D(512, 3, 1, activation=\"relu\", padding=\"same\")(layers)\n",
    "layers = BatchNormalization()(layers)\n",
    "layers = MaxPooling2D()(layers)\n",
    "layers = Dropout(0.25)(layers)\n",
    "\n",
    "layers = Conv2D(512, 3, 1, activation=\"relu\", padding=\"same\")(layers)\n",
    "layers = BatchNormalization()(layers)\n",
    "layers = MaxPooling2D()(layers)\n",
    "layers = Dropout(0.25)(layers)\n",
    "\n",
    "layers = Flatten()(layers)\n",
    "layers = Dense(256, activation=\"relu\")(layers)\n",
    "layers = BatchNormalization()(layers)\n",
    "layers = Dropout(0.25)(layers)\n",
    "\n",
    "layers = Dense(512, activation=\"relu\")(layers)\n",
    "layers = BatchNormalization()(layers)\n",
    "layers = Dropout(0.25)(layers)\n",
    "layers = Dense(7, activation=\"softmax\")(layers)\n",
    "\n",
    "# Defining input, hidden and output layers\n",
    "model = Model(inputs=[input_layer], outputs=[layers])\n",
    "# Showing the summary of the model\n",
    "model.summary()"
   ]
  },
  {
   "cell_type": "code",
   "execution_count": 18,
   "metadata": {
    "id": "I5YYLBuzBsuI"
   },
   "outputs": [],
   "source": [
    "# Defining callbacks for the model while training\n",
    "# param: patience - iterations to wait before stopping when val loss is not improving\n",
    "my_callbacks = [EarlyStopping(patience=10, restore_best_weights=True)]"
   ]
  },
  {
   "cell_type": "code",
   "execution_count": 19,
   "metadata": {
    "colab": {
     "base_uri": "https://localhost:8080/",
     "height": 1000
    },
    "id": "xWs6b-5GBsuI",
    "outputId": "ec5c61d0-11a0-41fa-cf5d-7c420abdb518"
   },
   "outputs": [
    {
     "name": "stdout",
     "output_type": "stream",
     "text": [
      "('Failed to import pydot. You must `pip install pydot` and install graphviz (https://graphviz.gitlab.io/download/), ', 'for `pydotprint` to work.')\n"
     ]
    }
   ],
   "source": [
    "# Plotting the model architecture\n",
    "plot_model(model)"
   ]
  },
  {
   "cell_type": "markdown",
   "metadata": {
    "id": "n3R8NeJBBsuJ"
   },
   "source": [
    "### Compiling and Training the Model"
   ]
  },
  {
   "cell_type": "code",
   "execution_count": 20,
   "metadata": {
    "id": "3_l4swbzBsuJ"
   },
   "outputs": [
    {
     "name": "stderr",
     "output_type": "stream",
     "text": [
      "e:\\ai\\ai-env\\lib\\site-packages\\sklearn\\utils\\validation.py:70: FutureWarning: Pass classes=[0 1 2 3 4 5 6], y=0        0\n",
      "1        0\n",
      "2        2\n",
      "3        4\n",
      "4        6\n",
      "        ..\n",
      "28704    2\n",
      "28705    0\n",
      "28706    4\n",
      "28707    0\n",
      "28708    4\n",
      "Name: emotion, Length: 28709, dtype: int64 as keyword args. From version 1.0 (renaming of 0.25) passing these as positional arguments will result in an error\n",
      "  warnings.warn(f\"Pass {args_msg} as keyword args. From version \"\n"
     ]
    }
   ],
   "source": [
    "# Compiling the created model\n",
    "# Params : loss = loss function\n",
    "# optimizer : optimizer type to be used\n",
    "# metrics : Metrics to be shown while training the model\n",
    "model.compile(loss=\"categorical_crossentropy\", optimizer=\"adam\", metrics=[\"accuracy\"])\n",
    "\n",
    "# Calculating class weights for balanced distribution of emotions classes\n",
    "weights = compute_class_weight('balanced',np.unique(y_train),y_train)\n",
    "# Enumerating weights in the form of dictionary\n",
    "weights = dict(enumerate(weights))"
   ]
  },
  {
   "cell_type": "code",
   "execution_count": 26,
   "metadata": {
    "colab": {
     "base_uri": "https://localhost:8080/"
    },
    "id": "RTnAq2pDBsuJ",
    "outputId": "a4c6aa96-8609-4100-936a-9fcc02fb889f"
   },
   "outputs": [
    {
     "name": "stdout",
     "output_type": "stream",
     "text": [
      "Epoch 1/100\n",
      "180/180 [==============================] - 22s 76ms/step - loss: 2.5006 - accuracy: 0.1574 - val_loss: 5.6661 - val_accuracy: 0.0141\n",
      "Epoch 2/100\n",
      "180/180 [==============================] - 13s 72ms/step - loss: 2.1000 - accuracy: 0.1781 - val_loss: 2.1069 - val_accuracy: 0.1787\n",
      "Epoch 3/100\n",
      "180/180 [==============================] - 13s 71ms/step - loss: 2.0251 - accuracy: 0.1890 - val_loss: 1.9392 - val_accuracy: 0.2188\n",
      "Epoch 4/100\n",
      "180/180 [==============================] - 13s 71ms/step - loss: 1.9283 - accuracy: 0.2192 - val_loss: 1.8662 - val_accuracy: 0.2357\n",
      "Epoch 5/100\n",
      "180/180 [==============================] - 13s 70ms/step - loss: 1.8326 - accuracy: 0.2473 - val_loss: 1.8565 - val_accuracy: 0.2545\n",
      "Epoch 6/100\n",
      "180/180 [==============================] - 13s 70ms/step - loss: 1.7607 - accuracy: 0.2846 - val_loss: 1.7054 - val_accuracy: 0.3329\n",
      "Epoch 7/100\n",
      "180/180 [==============================] - 13s 71ms/step - loss: 1.7199 - accuracy: 0.3276 - val_loss: 1.7263 - val_accuracy: 0.3280\n",
      "Epoch 8/100\n",
      "180/180 [==============================] - 13s 71ms/step - loss: 1.6115 - accuracy: 0.3739 - val_loss: 1.7450 - val_accuracy: 0.3036\n",
      "Epoch 9/100\n",
      "180/180 [==============================] - 13s 71ms/step - loss: 1.5995 - accuracy: 0.3712 - val_loss: 1.6282 - val_accuracy: 0.3647\n",
      "Epoch 10/100\n",
      "180/180 [==============================] - 13s 71ms/step - loss: 1.5164 - accuracy: 0.4099 - val_loss: 1.4931 - val_accuracy: 0.4214\n",
      "Epoch 11/100\n",
      "180/180 [==============================] - 13s 72ms/step - loss: 1.4947 - accuracy: 0.4187 - val_loss: 1.4747 - val_accuracy: 0.4318\n",
      "Epoch 12/100\n",
      "180/180 [==============================] - 13s 71ms/step - loss: 1.4386 - accuracy: 0.4376 - val_loss: 1.6271 - val_accuracy: 0.3627\n",
      "Epoch 13/100\n",
      "180/180 [==============================] - 13s 72ms/step - loss: 1.3963 - accuracy: 0.4487 - val_loss: 1.4091 - val_accuracy: 0.4510\n",
      "Epoch 14/100\n",
      "180/180 [==============================] - 13s 70ms/step - loss: 1.3658 - accuracy: 0.4728 - val_loss: 1.5378 - val_accuracy: 0.3942\n",
      "Epoch 15/100\n",
      "180/180 [==============================] - 13s 71ms/step - loss: 1.3888 - accuracy: 0.4619 - val_loss: 1.4374 - val_accuracy: 0.4398\n",
      "Epoch 16/100\n",
      "180/180 [==============================] - 13s 72ms/step - loss: 1.3424 - accuracy: 0.4817 - val_loss: 1.5118 - val_accuracy: 0.4416\n",
      "Epoch 17/100\n",
      "180/180 [==============================] - 13s 71ms/step - loss: 1.3272 - accuracy: 0.4818 - val_loss: 1.5074 - val_accuracy: 0.3975\n",
      "Epoch 18/100\n",
      "180/180 [==============================] - 13s 71ms/step - loss: 1.3096 - accuracy: 0.4864 - val_loss: 1.5518 - val_accuracy: 0.4099\n",
      "Epoch 19/100\n",
      "180/180 [==============================] - 13s 73ms/step - loss: 1.3060 - accuracy: 0.4860 - val_loss: 1.4330 - val_accuracy: 0.4600\n",
      "Epoch 20/100\n",
      "180/180 [==============================] - 13s 72ms/step - loss: 1.2704 - accuracy: 0.5042 - val_loss: 1.3576 - val_accuracy: 0.4689\n",
      "Epoch 21/100\n",
      "180/180 [==============================] - 13s 71ms/step - loss: 1.2424 - accuracy: 0.5051 - val_loss: 1.3581 - val_accuracy: 0.4790\n",
      "Epoch 22/100\n",
      "180/180 [==============================] - 13s 72ms/step - loss: 1.2471 - accuracy: 0.5052 - val_loss: 1.3303 - val_accuracy: 0.4884\n",
      "Epoch 23/100\n",
      "180/180 [==============================] - 13s 71ms/step - loss: 1.2415 - accuracy: 0.5114 - val_loss: 1.7832 - val_accuracy: 0.3029\n",
      "Epoch 24/100\n",
      "180/180 [==============================] - 13s 71ms/step - loss: 1.2631 - accuracy: 0.5068 - val_loss: 1.2527 - val_accuracy: 0.5114\n",
      "Epoch 25/100\n",
      "180/180 [==============================] - 13s 73ms/step - loss: 1.2557 - accuracy: 0.5183 - val_loss: 1.3732 - val_accuracy: 0.4820\n",
      "Epoch 26/100\n",
      "180/180 [==============================] - 13s 71ms/step - loss: 1.2328 - accuracy: 0.5197 - val_loss: 1.3489 - val_accuracy: 0.4755\n",
      "Epoch 27/100\n",
      "180/180 [==============================] - 13s 71ms/step - loss: 1.2149 - accuracy: 0.5293 - val_loss: 1.3783 - val_accuracy: 0.4795\n",
      "Epoch 28/100\n",
      "180/180 [==============================] - 13s 72ms/step - loss: 1.2460 - accuracy: 0.5211 - val_loss: 1.2460 - val_accuracy: 0.5224\n",
      "Epoch 29/100\n",
      "180/180 [==============================] - 13s 71ms/step - loss: 1.1682 - accuracy: 0.5359 - val_loss: 1.2738 - val_accuracy: 0.5156\n",
      "Epoch 30/100\n",
      "180/180 [==============================] - 13s 71ms/step - loss: 1.1838 - accuracy: 0.5366 - val_loss: 1.3443 - val_accuracy: 0.4856\n",
      "Epoch 31/100\n",
      "180/180 [==============================] - 13s 72ms/step - loss: 1.1556 - accuracy: 0.5437 - val_loss: 1.3334 - val_accuracy: 0.4809\n",
      "Epoch 32/100\n",
      "180/180 [==============================] - 13s 72ms/step - loss: 1.1233 - accuracy: 0.5508 - val_loss: 1.2763 - val_accuracy: 0.5145\n",
      "Epoch 33/100\n",
      "180/180 [==============================] - 13s 71ms/step - loss: 1.1446 - accuracy: 0.5497 - val_loss: 1.4552 - val_accuracy: 0.4494\n",
      "Epoch 34/100\n",
      "180/180 [==============================] - 13s 71ms/step - loss: 1.1619 - accuracy: 0.5425 - val_loss: 1.2334 - val_accuracy: 0.5294\n",
      "Epoch 35/100\n",
      "180/180 [==============================] - 13s 72ms/step - loss: 1.1403 - accuracy: 0.5501 - val_loss: 1.2205 - val_accuracy: 0.5363\n",
      "Epoch 36/100\n",
      "180/180 [==============================] - 13s 71ms/step - loss: 1.1325 - accuracy: 0.5503 - val_loss: 1.1760 - val_accuracy: 0.5553\n",
      "Epoch 37/100\n",
      "180/180 [==============================] - 13s 71ms/step - loss: 1.1090 - accuracy: 0.5623 - val_loss: 1.1945 - val_accuracy: 0.5382\n",
      "Epoch 38/100\n",
      "180/180 [==============================] - 13s 72ms/step - loss: 1.0890 - accuracy: 0.5667 - val_loss: 1.3137 - val_accuracy: 0.4985\n",
      "Epoch 39/100\n",
      "180/180 [==============================] - 13s 72ms/step - loss: 1.1310 - accuracy: 0.5607 - val_loss: 1.2005 - val_accuracy: 0.5358\n",
      "Epoch 40/100\n",
      "180/180 [==============================] - 13s 71ms/step - loss: 1.0961 - accuracy: 0.5660 - val_loss: 1.1894 - val_accuracy: 0.5476\n",
      "Epoch 41/100\n",
      "180/180 [==============================] - 13s 71ms/step - loss: 1.0972 - accuracy: 0.5575 - val_loss: 1.2691 - val_accuracy: 0.5091\n",
      "Epoch 42/100\n",
      "180/180 [==============================] - 13s 70ms/step - loss: 1.0731 - accuracy: 0.5632 - val_loss: 1.2270 - val_accuracy: 0.5306\n",
      "Epoch 43/100\n",
      "180/180 [==============================] - 13s 70ms/step - loss: 1.0712 - accuracy: 0.5708 - val_loss: 1.2772 - val_accuracy: 0.5267\n",
      "Epoch 44/100\n",
      "180/180 [==============================] - 13s 71ms/step - loss: 1.1173 - accuracy: 0.5568 - val_loss: 1.2266 - val_accuracy: 0.5384\n",
      "Epoch 45/100\n",
      "180/180 [==============================] - 13s 71ms/step - loss: 1.0969 - accuracy: 0.5658 - val_loss: 1.4882 - val_accuracy: 0.4459\n",
      "Epoch 46/100\n",
      "180/180 [==============================] - 13s 71ms/step - loss: 1.0754 - accuracy: 0.5746 - val_loss: 1.1456 - val_accuracy: 0.5595\n",
      "Epoch 47/100\n",
      "180/180 [==============================] - 13s 71ms/step - loss: 1.0349 - accuracy: 0.5829 - val_loss: 1.2275 - val_accuracy: 0.5294\n",
      "Epoch 48/100\n",
      "180/180 [==============================] - 13s 71ms/step - loss: 1.0592 - accuracy: 0.5788 - val_loss: 1.2488 - val_accuracy: 0.5363\n",
      "Epoch 49/100\n",
      "180/180 [==============================] - 13s 72ms/step - loss: 1.0204 - accuracy: 0.5880 - val_loss: 1.7295 - val_accuracy: 0.3323\n",
      "Epoch 50/100\n",
      "180/180 [==============================] - 13s 71ms/step - loss: 1.0429 - accuracy: 0.5840 - val_loss: 1.2106 - val_accuracy: 0.5297\n",
      "Epoch 51/100\n",
      "180/180 [==============================] - 13s 71ms/step - loss: 1.0340 - accuracy: 0.5856 - val_loss: 1.3155 - val_accuracy: 0.5269\n",
      "Epoch 52/100\n",
      "180/180 [==============================] - 13s 71ms/step - loss: 1.0451 - accuracy: 0.5857 - val_loss: 1.2650 - val_accuracy: 0.5212\n",
      "Epoch 53/100\n",
      "180/180 [==============================] - 13s 71ms/step - loss: 1.0390 - accuracy: 0.5884 - val_loss: 1.2459 - val_accuracy: 0.5314\n",
      "Epoch 54/100\n",
      "180/180 [==============================] - 13s 70ms/step - loss: 1.0160 - accuracy: 0.5847 - val_loss: 1.4228 - val_accuracy: 0.4646\n",
      "Epoch 55/100\n",
      "180/180 [==============================] - 13s 72ms/step - loss: 1.0294 - accuracy: 0.5857 - val_loss: 1.1378 - val_accuracy: 0.5717\n",
      "Epoch 56/100\n",
      "180/180 [==============================] - 13s 71ms/step - loss: 0.9983 - accuracy: 0.5942 - val_loss: 1.2618 - val_accuracy: 0.5187\n",
      "Epoch 57/100\n",
      "180/180 [==============================] - 13s 71ms/step - loss: 1.0299 - accuracy: 0.5956 - val_loss: 1.3086 - val_accuracy: 0.5071\n",
      "Epoch 58/100\n",
      "180/180 [==============================] - 13s 71ms/step - loss: 1.0001 - accuracy: 0.5931 - val_loss: 1.1596 - val_accuracy: 0.5544\n",
      "Epoch 59/100\n",
      "180/180 [==============================] - 13s 71ms/step - loss: 1.0178 - accuracy: 0.5959 - val_loss: 1.1697 - val_accuracy: 0.5570\n",
      "Epoch 60/100\n",
      "180/180 [==============================] - 13s 70ms/step - loss: 1.0079 - accuracy: 0.5909 - val_loss: 1.8403 - val_accuracy: 0.3402\n",
      "Epoch 61/100\n",
      "180/180 [==============================] - 13s 71ms/step - loss: 0.9938 - accuracy: 0.5963 - val_loss: 1.1121 - val_accuracy: 0.5759\n",
      "Epoch 62/100\n",
      "180/180 [==============================] - 13s 70ms/step - loss: 0.9820 - accuracy: 0.6002 - val_loss: 1.6496 - val_accuracy: 0.4045\n",
      "Epoch 63/100\n",
      "180/180 [==============================] - 13s 71ms/step - loss: 1.0109 - accuracy: 0.5909 - val_loss: 1.2410 - val_accuracy: 0.5290\n",
      "Epoch 64/100\n",
      "180/180 [==============================] - 13s 71ms/step - loss: 0.9933 - accuracy: 0.6005 - val_loss: 1.1213 - val_accuracy: 0.5759\n",
      "Epoch 65/100\n",
      "180/180 [==============================] - 13s 71ms/step - loss: 0.9917 - accuracy: 0.5988 - val_loss: 1.1394 - val_accuracy: 0.5736\n",
      "Epoch 66/100\n",
      "180/180 [==============================] - 13s 70ms/step - loss: 0.9732 - accuracy: 0.6031 - val_loss: 1.2759 - val_accuracy: 0.5156\n",
      "Epoch 67/100\n",
      "180/180 [==============================] - 13s 70ms/step - loss: 0.9721 - accuracy: 0.6044 - val_loss: 1.1708 - val_accuracy: 0.5508\n",
      "Epoch 68/100\n",
      "180/180 [==============================] - 13s 70ms/step - loss: 0.9632 - accuracy: 0.6118 - val_loss: 1.1135 - val_accuracy: 0.5760\n",
      "Epoch 69/100\n",
      "180/180 [==============================] - 13s 70ms/step - loss: 0.9457 - accuracy: 0.6155 - val_loss: 1.1241 - val_accuracy: 0.5722\n",
      "Epoch 70/100\n",
      "180/180 [==============================] - 13s 70ms/step - loss: 0.9461 - accuracy: 0.6186 - val_loss: 1.2442 - val_accuracy: 0.5360\n",
      "Epoch 71/100\n",
      "180/180 [==============================] - 13s 71ms/step - loss: 0.9539 - accuracy: 0.6092 - val_loss: 1.1938 - val_accuracy: 0.5539\n"
     ]
    }
   ],
   "source": [
    "# Training the model\n",
    "# Params : epochs - number of epochs\n",
    "# batch_size : batch size of the train data\n",
    "# class_weight : weights for the classes\n",
    "# validation_data: validation data set\n",
    "# callbacks : callbacks to run while training the model\n",
    "train_model = model.fit(train_iterate, epochs=100, batch_size=128, class_weight=weights, validation_data=val_iterate, callbacks=my_callbacks)"
   ]
  },
  {
   "cell_type": "markdown",
   "metadata": {
    "id": "-dwhKxwIBsuK"
   },
   "source": [
    "### Saving the Model"
   ]
  },
  {
   "cell_type": "code",
   "execution_count": 27,
   "metadata": {
    "id": "DGda7jdvBsuK"
   },
   "outputs": [],
   "source": [
    "# Saving the model\n",
    "model.save(\"Model.h5\")"
   ]
  },
  {
   "cell_type": "markdown",
   "metadata": {
    "id": "dN4vssIJBsuK"
   },
   "source": [
    "### Training Report"
   ]
  },
  {
   "cell_type": "code",
   "execution_count": 37,
   "metadata": {
    "colab": {
     "base_uri": "https://localhost:8080/"
    },
    "id": "4f9nWrTbBsuK",
    "outputId": "bcb884bc-e9e9-4d4e-9a59-8c9534c30c7f"
   },
   "outputs": [
    {
     "name": "stdout",
     "output_type": "stream",
     "text": [
      "225/225 [==============================] - 1s 6ms/step - loss: 1.0182 - accuracy: 0.6222\n"
     ]
    },
    {
     "data": {
      "text/plain": [
       "[1.0181841850280762, 0.622178852558136]"
      ]
     },
     "execution_count": 37,
     "metadata": {
      "tags": []
     },
     "output_type": "execute_result"
    }
   ],
   "source": [
    "# Evaluating the trained model using test data\r\n",
    "model.evaluate(x_test, y_test_catg)"
   ]
  },
  {
   "cell_type": "code",
   "execution_count": 38,
   "metadata": {
    "id": "uhfF98ZuBsuL"
   },
   "outputs": [],
   "source": [
    "# Getting the training and validation loss and accuracy from the model\n",
    "training_loss = train_model.history[\"loss\"]\n",
    "validation_loss = train_model.history[\"val_loss\"]\n",
    "training_acc = train_model.history[\"accuracy\"]\n",
    "validation_acc = train_model.history[\"val_accuracy\"]"
   ]
  },
  {
   "cell_type": "code",
   "execution_count": 39,
   "metadata": {
    "colab": {
     "base_uri": "https://localhost:8080/",
     "height": 297
    },
    "id": "5ie6CfU6BsuL",
    "outputId": "32bf545a-beef-42dc-95ae-2f71e84d79c5"
   },
   "outputs": [
    {
     "data": {
      "text/plain": [
       "<matplotlib.legend.Legend at 0x7fa9b42ff2b0>"
      ]
     },
     "execution_count": 39,
     "metadata": {
      "tags": []
     },
     "output_type": "execute_result"
    },
    {
     "data": {
      "image/png": "[encoded data removed]",
      "text/plain": [
       "<Figure size 432x288 with 1 Axes>"
      ]
     },
     "metadata": {
      "needs_background": "light",
      "tags": []
     },
     "output_type": "display_data"
    }
   ],
   "source": [
    "# Plotting the training and validation loss in the graph using matplotlib\n",
    "plot.plot(training_loss, label=\"Train loss\")\n",
    "plot.plot(validation_loss, label=\"Validation loss\")\n",
    "plot.ylabel('Loss')\n",
    "plot.xlabel('Epochs')\n",
    "plot.legend()"
   ]
  },
  {
   "cell_type": "code",
   "execution_count": 40,
   "metadata": {
    "colab": {
     "base_uri": "https://localhost:8080/",
     "height": 297
    },
    "id": "qLH4gDfe0y_c",
    "outputId": "93617614-c778-43c2-f5b7-be903303b79d"
   },
   "outputs": [
    {
     "data": {
      "text/plain": [
       "<matplotlib.legend.Legend at 0x7fa9b41f4320>"
      ]
     },
     "execution_count": 40,
     "metadata": {
      "tags": []
     },
     "output_type": "execute_result"
    },
    {
     "data": {
      "image/png": "[encoded data removed]",
      "text/plain": [
       "<Figure size 432x288 with 1 Axes>"
      ]
     },
     "metadata": {
      "needs_background": "light",
      "tags": []
     },
     "output_type": "display_data"
    }
   ],
   "source": [
    "# Plotting the training and validation accuracy in the graph using matplotlib\r\n",
    "plot.plot(training_acc, label=\"Train Accuracy\")\r\n",
    "plot.plot(validation_acc, label=\"Validation Accuracy\", color=\"red\")\r\n",
    "plot.ylabel('Accuracy')\r\n",
    "plot.xlabel('Epochs')\r\n",
    "plot.legend()"
   ]
  },
  {
   "cell_type": "markdown",
   "metadata": {
    "id": "YB5537LDBsuL"
   },
   "source": [
    "### Training Statistics"
   ]
  },
  {
   "cell_type": "code",
   "execution_count": 41,
   "metadata": {
    "id": "tJMeXFYFE0Ww"
   },
   "outputs": [],
   "source": [
    "# Defining a list to store the emotion strings based on their class index from dataset\r\n",
    "emotions = ['Angry','Disgust','Fear','Happy','Sad','Surprise','Neutral']"
   ]
  },
  {
   "cell_type": "code",
   "execution_count": 42,
   "metadata": {
    "colab": {
     "base_uri": "https://localhost:8080/"
    },
    "id": "m87hbtLaBsuM",
    "outputId": "3f95cc6d-86d2-4c89-a3ac-96793380a788"
   },
   "outputs": [
    {
     "name": "stdout",
     "output_type": "stream",
     "text": [
      "              precision    recall  f1-score   support\n",
      "\n",
      "           0       0.63      0.52      0.57      3995\n",
      "           1       0.48      0.90      0.62       436\n",
      "           2       0.63      0.34      0.44      4097\n",
      "           3       0.89      0.83      0.86      7215\n",
      "           4       0.53      0.57      0.55      4830\n",
      "           5       0.76      0.81      0.78      3171\n",
      "           6       0.53      0.75      0.62      4965\n",
      "\n",
      "    accuracy                           0.66     28709\n",
      "   macro avg       0.63      0.68      0.64     28709\n",
      "weighted avg       0.67      0.66      0.65     28709\n",
      "\n",
      "[[2083  156  190  158  570   83  755]\n",
      " [  15  394    3    3   14    2    5]\n",
      " [ 459  104 1412  125  920  497  580]\n",
      " [ 110   29   52 5981  269  141  633]\n",
      " [ 344   72  327  106 2759   45 1177]\n",
      " [  71   40  168  147   50 2555  140]\n",
      " [ 213   33  102  224  612   57 3724]]\n"
     ]
    }
   ],
   "source": [
    "# Predictions and reports on Training data\n",
    "predictions = model.predict(x_train).argmax(axis=1)\n",
    "print(classification_report(y_train, predictions))\n",
    "print(confusion_matrix(y_train, predictions))"
   ]
  },
  {
   "cell_type": "code",
   "execution_count": 43,
   "metadata": {
    "colab": {
     "base_uri": "https://localhost:8080/",
     "height": 588
    },
    "id": "8JD2biGuBqdr",
    "outputId": "2c649bc0-5c4c-4119-f97d-2a8aeeb05aa5"
   },
   "outputs": [
    {
     "data": {
      "image/png": "[encoded data removed]",
      "text/plain": [
       "<Figure size 720x720 with 2 Axes>"
      ]
     },
     "metadata": {
      "needs_background": "light",
      "tags": []
     },
     "output_type": "display_data"
    }
   ],
   "source": [
    "# Graphically representing the confusion matrix \r\n",
    "confusion_matrix_plot = ConfusionMatrixDisplay(confusion_matrix=confusion_matrix(y_train, predictions),display_labels=emotions)\r\n",
    "# changing the size of the graph\r\n",
    "_, ax = plot.subplots(figsize=(10, 10))\r\n",
    "# Setting the title for the graph\r\n",
    "plot.title(\"Train Confusion Matrix\")\r\n",
    "# setting extra attributes for customizations\r\n",
    "confusion_matrix_plot = confusion_matrix_plot.plot(include_values=True,cmap=\"plasma\",xticks_rotation=\"60.0\",ax=ax,values_format='d')"
   ]
  },
  {
   "cell_type": "code",
   "execution_count": 44,
   "metadata": {
    "colab": {
     "base_uri": "https://localhost:8080/"
    },
    "id": "dffcpspmBsuM",
    "outputId": "91578b7b-10bd-4307-aa95-0bdccf9bf4b7"
   },
   "outputs": [
    {
     "name": "stdout",
     "output_type": "stream",
     "text": [
      "              precision    recall  f1-score   support\n",
      "\n",
      "           0       0.59      0.52      0.55       958\n",
      "           1       0.38      0.65      0.48       111\n",
      "           2       0.55      0.29      0.38      1024\n",
      "           3       0.88      0.80      0.84      1774\n",
      "           4       0.49      0.53      0.51      1247\n",
      "           5       0.73      0.77      0.75       831\n",
      "           6       0.50      0.71      0.59      1233\n",
      "\n",
      "    accuracy                           0.62      7178\n",
      "   macro avg       0.59      0.61      0.58      7178\n",
      "weighted avg       0.64      0.62      0.62      7178\n",
      "\n",
      "[[ 499   50   50   30  130   28  171]\n",
      " [  17   72    1    2   10    2    7]\n",
      " [ 118   28  296   41  249  127  165]\n",
      " [  24    7   23 1424   89   37  170]\n",
      " [ 101   12   86   36  657   24  331]\n",
      " [  30   10   36   39   32  639   45]\n",
      " [  54   10   48   50  173   19  879]]\n"
     ]
    }
   ],
   "source": [
    "# Predictions and reports on Testing data\n",
    "predictions = model.predict(x_test).argmax(axis=1)\n",
    "print(classification_report(y_test, predictions))\n",
    "print(confusion_matrix(y_test, predictions))"
   ]
  },
  {
   "cell_type": "code",
   "execution_count": 45,
   "metadata": {
    "colab": {
     "base_uri": "https://localhost:8080/",
     "height": 588
    },
    "id": "bgxJ3lE_EqMp",
    "outputId": "8968b8ff-930f-4fdc-d088-8b8e0093d45e"
   },
   "outputs": [
    {
     "data": {
      "image/png": "[encoded data removed]",
      "text/plain": [
       "<Figure size 720x720 with 2 Axes>"
      ]
     },
     "metadata": {
      "needs_background": "light",
      "tags": []
     },
     "output_type": "display_data"
    }
   ],
   "source": [
    "# Graphically representing the confusion matrix \r\n",
    "confusion_matrix_plot = ConfusionMatrixDisplay(confusion_matrix=confusion_matrix(y_test, predictions),display_labels=emotions)\r\n",
    "# changing the size of the graph\r\n",
    "_, ax = plot.subplots(figsize=(10, 10))\r\n",
    "# Setting the title for the graph\r\n",
    "plot.title(\"Test Confusion Matrix\")\r\n",
    "# setting extra attributes for customizations\r\n",
    "confusion_matrix_plot = confusion_matrix_plot.plot(include_values=True,cmap=\"plasma\",xticks_rotation=\"60.0\",ax=ax,values_format='d')"
   ]
  },
  {
   "cell_type": "markdown",
   "metadata": {
    "id": "Bn-LCwXWGJHk"
   },
   "source": [
    "### Testing Model for Single Image"
   ]
  },
  {
   "cell_type": "code",
   "execution_count": 61,
   "metadata": {
    "colab": {
     "base_uri": "https://localhost:8080/",
     "height": 302
    },
    "id": "-T_uckkHGGtj",
    "outputId": "1abd76ad-0361-4f11-ecdf-33d41a9a9cc1"
   },
   "outputs": [
    {
     "name": "stdout",
     "output_type": "stream",
     "text": [
      "Actual:  Angry\n",
      "Predicted:  Angry\n"
     ]
    },
    {
     "data": {
      "image/png": "[encoded data removed]",
      "text/plain": [
       "<Figure size 432x288 with 1 Axes>"
      ]
     },
     "metadata": {
      "needs_background": "light",
      "tags": []
     },
     "output_type": "display_data"
    }
   ],
   "source": [
    "# Index of the image in dataset to test\r\n",
    "test_index = 1800\r\n",
    "# Getting the image from the dataset from given index\r\n",
    "test_image = x_test[test_index].reshape(48, 48)\r\n",
    "# Showing the selected image\r\n",
    "plot.imshow(test_image,cmap=\"gray\")\r\n",
    "# Showing the predicted class and actual class of emotions for the selected image\r\n",
    "print(\"Actual: \",emotions[np.stack(y_test)[test_index]])\r\n",
    "print(\"Predicted: \",emotions[predictions[test_index]])"
   ]
  },
  {
   "cell_type": "markdown",
   "metadata": {
    "id": "oPp-IgqiBsuN"
   },
   "source": [
    "### --------------------------------------------------------------------------------------------------"
   ]
  },
  {
   "cell_type": "markdown",
   "metadata": {
    "id": "q50N03YCBsuN"
   },
   "source": [
    "# Live Testing the Saved Model"
   ]
  },
  {
   "cell_type": "markdown",
   "metadata": {
    "id": "aqyA7WTvBsuO"
   },
   "source": [
    "### --------------------------------------------------------------------------------------------------"
   ]
  },
  {
   "cell_type": "markdown",
   "metadata": {
    "id": "Rir_TBa1BsuO"
   },
   "source": [
    "### Importing Libraries"
   ]
  },
  {
   "cell_type": "code",
   "execution_count": 21,
   "metadata": {
    "id": "oU_3_bqBBsuO"
   },
   "outputs": [],
   "source": [
    "# Importing required libraries\n",
    "import cv2 as cv\n",
    "import numpy as np\n",
    "from tensorflow.keras.models import load_model\n",
    "from keras.preprocessing.image import img_to_array\n",
    "from keras.preprocessing import image"
   ]
  },
  {
   "cell_type": "markdown",
   "metadata": {
    "id": "ChRZrkfHBsuP"
   },
   "source": [
    "### Setting up Faces Detection"
   ]
  },
  {
   "cell_type": "code",
   "execution_count": 22,
   "metadata": {
    "id": "41gDIRWjBsuP"
   },
   "outputs": [],
   "source": [
    "# Defining a list to store the emotion strings based on their class index from dataset\n",
    "emotions = ['Angry','Disgust','Fear','Happy','Sad','Surprise','Neutral']\n",
    "# Using haar cascade classifiers to extract the face from the images from camera\n",
    "f_classifier = cv.CascadeClassifier('haarcascade_frontalface_default.xml')"
   ]
  },
  {
   "cell_type": "markdown",
   "metadata": {
    "id": "B7oZH5jqBsuQ"
   },
   "source": [
    "### Loading the Trained Model"
   ]
  },
  {
   "cell_type": "code",
   "execution_count": 23,
   "metadata": {
    "id": "Asle8E4RBsuQ"
   },
   "outputs": [],
   "source": [
    "# Loading the saved trained model for expression detection\n",
    "model = load_model(\"Model.h5\")"
   ]
  },
  {
   "cell_type": "markdown",
   "metadata": {
    "id": "p68VdjVTBsuR"
   },
   "source": [
    "### Starting Camera and Detecting Facial Expressions"
   ]
  },
  {
   "cell_type": "markdown",
   "metadata": {
    "id": "vL5Z2YgdBsuR"
   },
   "source": [
    "#### Press 'x' to Exit Camera"
   ]
  },
  {
   "cell_type": "code",
   "execution_count": 24,
   "metadata": {
    "id": "qYlrQ2FeBsuR"
   },
   "outputs": [
    {
     "name": "stdout",
     "output_type": "stream",
     "text": [
      "WARNING:tensorflow:AutoGraph could not transform <function Model.make_predict_function.<locals>.predict_function at 0x0000023555655430> and will run it as-is.\n",
      "Please report this to the TensorFlow team. When filing the bug, set the verbosity to 10 (on Linux, `export AUTOGRAPH_VERBOSITY=10`) and attach the full output.\n",
      "Cause: module 'gast' has no attribute 'Constant'\n",
      "To silence this warning, decorate the function with @tf.autograph.experimental.do_not_convert\n",
      "WARNING: AutoGraph could not transform <function Model.make_predict_function.<locals>.predict_function at 0x0000023555655430> and will run it as-is.\n",
      "Please report this to the TensorFlow team. When filing the bug, set the verbosity to 10 (on Linux, `export AUTOGRAPH_VERBOSITY=10`) and attach the full output.\n",
      "Cause: module 'gast' has no attribute 'Constant'\n",
      "To silence this warning, decorate the function with @tf.autograph.experimental.do_not_convert\n"
     ]
    }
   ],
   "source": [
    "# Starting the default device camera using cv2\n",
    "camera = cv.VideoCapture(0)\n",
    "\n",
    "# Starting while loop to continuously read objects from camera\n",
    "while True:\n",
    "    #  Reading image from camera\n",
    "    _, camera_frame = camera.read()\n",
    "    # Getting face from the image and coverting it to grayscale image\n",
    "    gray = cv.cvtColor(camera_frame,cv.COLOR_BGR2GRAY)\n",
    "    # Detecting faces seen on the camera image\n",
    "    faces = f_classifier.detectMultiScale(gray,1.3,5)\n",
    "    # Adding text to the window to display the number of faces detected\n",
    "    cv.putText(camera_frame, f'{len(faces)} Faces Found', (20, 25), cv.FONT_HERSHEY_SIMPLEX, 0.5, (0, 255, 0), 2, cv.LINE_AA) \n",
    "    cv.putText(camera_frame, \"Press 'x' To Exit\", (500, 25), cv.FONT_HERSHEY_SIMPLEX,  0.5, (0, 255, 0), 2, cv.LINE_AA) \n",
    "    for (x,y,w,h) in faces:\n",
    "        # Drawing bounding box around face and extreacting the image\n",
    "        cv.rectangle(camera_frame,(x,y),(x+w,y+h),(0,0,255),2)\n",
    "        # Extracting the face from the image\n",
    "        gray_roi = gray[y:y+h,x:x+w]\n",
    "        gray_roi = cv.resize(gray_roi,(48,48),interpolation=cv.INTER_AREA)\n",
    "        # rect,face,image = face_detector(camera_frame)\n",
    "        if np.sum([gray_roi])!=0:\n",
    "            region_of_int = gray_roi.astype('float')/255.0\n",
    "            region_of_int = img_to_array(region_of_int)\n",
    "            region_of_int = np.expand_dims(region_of_int,axis=0)\n",
    "            # make a prediction on the region_of_int, then lookup the class\n",
    "            preds = model.predict(region_of_int)[0]\n",
    "            # Defining labels of emotions\n",
    "            emotion_label=emotions[preds.argmax()]\n",
    "            label_position = (x,y)\n",
    "            # Showing emotion text\n",
    "            cv.putText(camera_frame,emotion_label,label_position,cv.FONT_HERSHEY_SIMPLEX,1,(0,255,255),3)\n",
    "    # Displaying the camera output in a window\n",
    "    cv.imshow('Facial Expressions Detection',camera_frame)\n",
    "    # Defining exit key for the camera window ('x' in this case) and breaking the loop\n",
    "    if cv.waitKey(1) & 0xFF == ord('x'):\n",
    "        break\n",
    "        \n",
    "# Releasing all the camera resources and windows used by cv2\n",
    "camera.release()\n",
    "cv.destroyAllWindows()"
   ]
  },
  {
   "cell_type": "code",
   "execution_count": null,
   "metadata": {
    "id": "Y4LoiPi4BsuS"
   },
   "outputs": [],
   "source": []
  },
  {
   "cell_type": "code",
   "execution_count": null,
   "metadata": {},
   "outputs": [],
   "source": []
  }
 ],
 "metadata": {
  "accelerator": "GPU",
  "colab": {
   "collapsed_sections": [],
   "name": "Assignment.ipynb",
   "provenance": []
  },
  "kernelspec": {
   "display_name": "Python 3",
   "language": "python",
   "name": "python3"
  },
  "language_info": {
   "codemirror_mode": {
    "name": "ipython",
    "version": 3
   },
   "file_extension": ".py",
   "mimetype": "text/x-python",
   "name": "python",
   "nbconvert_exporter": "python",
   "pygments_lexer": "ipython3",
   "version": "3.8.7"
  }
 },
 "nbformat": 4,
 "nbformat_minor": 4
}
